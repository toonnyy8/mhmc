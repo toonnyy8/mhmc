{
  "nbformat": 4,
  "nbformat_minor": 0,
  "metadata": {
    "colab": {
      "name": "SpeakerRecognition.ipynb",
      "provenance": [],
      "collapsed_sections": [],
      "toc_visible": true
    },
    "kernelspec": {
      "name": "python3",
      "display_name": "Python 3"
    }
  },
  "cells": [
    {
      "cell_type": "markdown",
      "metadata": {
        "id": "FAv1cja_fMkN",
        "colab_type": "text"
      },
      "source": [
        "### 將上傳的資料解壓縮"
      ]
    },
    {
      "cell_type": "code",
      "metadata": {
        "id": "c2GDTyvuQ_6l",
        "colab_type": "code",
        "colab": {
          "base_uri": "https://localhost:8080/",
          "height": 357
        },
        "outputId": "d746bdb7-c3d5-4225-ccca-a0531a18ed5b"
      },
      "source": [
        "!wget https://github.com/toonnyy8/mhmc/raw/master/MultimediaProcessing/Data.mat"
      ],
      "execution_count": 1,
      "outputs": [
        {
          "output_type": "stream",
          "text": [
            "--2020-08-31 16:06:04--  https://github.com/toonnyy8/mhmc/raw/master/MultimediaProcessing/Data.mat\n",
            "Resolving github.com (github.com)... 192.30.255.113\n",
            "Connecting to github.com (github.com)|192.30.255.113|:443... connected.\n",
            "HTTP request sent, awaiting response... 302 Found\n",
            "Location: https://raw.githubusercontent.com/toonnyy8/mhmc/master/MultimediaProcessing/Data.mat [following]\n",
            "--2020-08-31 16:06:04--  https://raw.githubusercontent.com/toonnyy8/mhmc/master/MultimediaProcessing/Data.mat\n",
            "Resolving raw.githubusercontent.com (raw.githubusercontent.com)... 151.101.0.133, 151.101.64.133, 151.101.128.133, ...\n",
            "Connecting to raw.githubusercontent.com (raw.githubusercontent.com)|151.101.0.133|:443... connected.\n",
            "HTTP request sent, awaiting response... 200 OK\n",
            "Length: 152437 (149K) [application/octet-stream]\n",
            "Saving to: ‘Data.mat’\n",
            "\n",
            "Data.mat            100%[===================>] 148.86K  --.-KB/s    in 0.03s   \n",
            "\n",
            "2020-08-31 16:06:05 (5.74 MB/s) - ‘Data.mat’ saved [152437/152437]\n",
            "\n"
          ],
          "name": "stdout"
        }
      ]
    },
    {
      "cell_type": "code",
      "metadata": {
        "id": "y1lUYKzxPlvH",
        "colab_type": "code",
        "colab": {}
      },
      "source": [
        "import scipy.io as sio\n",
        "data = sio.loadmat('Data.mat')"
      ],
      "execution_count": 13,
      "outputs": []
    },
    {
      "cell_type": "code",
      "metadata": {
        "id": "n7TQd1ZzSZ5m",
        "colab_type": "code",
        "colab": {
          "base_uri": "https://localhost:8080/",
          "height": 37
        },
        "outputId": "e79eaecd-ffae-4db6-c970-eebec316e830"
      },
      "source": [
        "data[\"c1\"][0][0][0]"
      ],
      "execution_count": 23,
      "outputs": [
        {
          "output_type": "execute_result",
          "data": {
            "text/plain": [
              "array([0.81303898, 0.74135147, 0.55016439, 0.45761272, 0.47286632])"
            ]
          },
          "metadata": {
            "tags": []
          },
          "execution_count": 23
        }
      ]
    },
    {
      "cell_type": "code",
      "metadata": {
        "id": "CFF32dwPTUR9",
        "colab_type": "code",
        "colab": {
          "base_uri": "https://localhost:8080/",
          "height": 37
        },
        "outputId": "3d89e429-c81b-44c3-90c0-d4c9bf4fa955"
      },
      "source": [
        "data[\"c2\"][0][0][0]"
      ],
      "execution_count": 22,
      "outputs": [
        {
          "output_type": "execute_result",
          "data": {
            "text/plain": [
              "array([0.99975603, 0.79355586, 0.80790849, 0.94250887, 0.67536667])"
            ]
          },
          "metadata": {
            "tags": []
          },
          "execution_count": 22
        }
      ]
    },
    {
      "cell_type": "code",
      "metadata": {
        "id": "tQiWV4zXTRgm",
        "colab_type": "code",
        "colab": {
          "base_uri": "https://localhost:8080/",
          "height": 37
        },
        "outputId": "f0573e2c-9049-42e3-ea20-60c8992ee7ae"
      },
      "source": [
        "\n",
        "data[\"lable\"][0][0][0]"
      ],
      "execution_count": 21,
      "outputs": [
        {
          "output_type": "execute_result",
          "data": {
            "text/plain": [
              "array([1, 0, 0, 0, 0], dtype=uint8)"
            ]
          },
          "metadata": {
            "tags": []
          },
          "execution_count": 21
        }
      ]
    },
    {
      "cell_type": "code",
      "metadata": {
        "id": "0UY_qwHtTbMs",
        "colab_type": "code",
        "colab": {}
      },
      "source": [
        "import tensorflow as tf\n",
        "model = tf.keras.models.Sequential([\n",
        "  tf.keras.layers.Dense(16,tf.keras.activations.swish),\n",
        "  tf.keras.layers.Dense(16,tf.keras.activations.swish),\n",
        "  tf.keras.layers.Dropout(0.3),\n",
        "  tf.keras.layers.Dense(16,tf.keras.activations.swish),\n",
        "  tf.keras.layers.Dense(16,tf.keras.activations.swish),\n",
        "  tf.keras.layers.Dropout(0.3),\n",
        "  tf.keras.layers.Dense(16,tf.keras.activations.swish),\n",
        "  tf.keras.layers.Dense(16,tf.keras.activations.softmax),\n",
        "])"
      ],
      "execution_count": 25,
      "outputs": []
    },
    {
      "cell_type": "code",
      "metadata": {
        "id": "u7p9YTJJVL08",
        "colab_type": "code",
        "colab": {}
      },
      "source": [
        ""
      ],
      "execution_count": null,
      "outputs": []
    }
  ]
}