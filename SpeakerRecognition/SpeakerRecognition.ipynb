{
  "nbformat": 4,
  "nbformat_minor": 0,
  "metadata": {
    "colab": {
      "name": "SpeakerRecognition.ipynb",
      "provenance": [],
      "collapsed_sections": []
    },
    "kernelspec": {
      "name": "python3",
      "display_name": "Python 3"
    }
  },
  "cells": [
    {
      "cell_type": "markdown",
      "metadata": {
        "id": "FAv1cja_fMkN",
        "colab_type": "text"
      },
      "source": [
        "### 將上傳的資料解壓縮"
      ]
    },
    {
      "cell_type": "code",
      "metadata": {
        "id": "y1lUYKzxPlvH",
        "colab_type": "code",
        "colab": {
          "base_uri": "https://localhost:8080/",
          "height": 70
        },
        "outputId": "70204189-e294-4a60-8d02-16f1b255586b"
      },
      "source": [
        "!unzip homework_data.zip"
      ],
      "execution_count": 1,
      "outputs": [
        {
          "output_type": "stream",
          "text": [
            "Archive:  homework_data.zip\n",
            "replace homework_data/speak00_data_enroll.npy? [y]es, [n]o, [A]ll, [N]one, [r]ename: n\n",
            "replace homework_data/speak00_data_eval.npy? [y]es, [n]o, [A]ll, [N]one, [r]ename: N\n"
          ],
          "name": "stdout"
        }
      ]
    },
    {
      "cell_type": "markdown",
      "metadata": {
        "id": "hLqe2f8dfaHF",
        "colab_type": "text"
      },
      "source": [
        "### 載入資料"
      ]
    },
    {
      "cell_type": "code",
      "metadata": {
        "id": "JzXabAoPQZHk",
        "colab_type": "code",
        "colab": {}
      },
      "source": [
        "import numpy as np\n",
        "\n",
        "enroll = []\n",
        "eval = []\n",
        "for i in range(10):\n",
        "    enroll.append(np.load(\"./homework_data/speak0{}_data_enroll.npy\".format(i)))\n",
        "    eval.append(np.load(\"./homework_data/speak0{}_data_eval.npy\".format(i)))"
      ],
      "execution_count": 1,
      "outputs": []
    },
    {
      "cell_type": "markdown",
      "metadata": {
        "id": "eF_fuHIXfjZD",
        "colab_type": "text"
      },
      "source": [
        "### 訂定相似度函數"
      ]
    },
    {
      "cell_type": "code",
      "metadata": {
        "id": "zfHtVMJUfgIO",
        "colab_type": "code",
        "colab": {}
      },
      "source": [
        "def cosine(As,Bs):\n",
        "    As_scale = np.reshape(np.linalg.norm(As,axis=1),(-1,1))\n",
        "    Bs_scale = np.reshape(np.linalg.norm(Bs,axis=1),(1,-1))\n",
        "    scale = np.dot(As_scale,Bs_scale)\n",
        "    AB = np.matmul(As,np.transpose(Bs,(1,0)))\n",
        "    return AB/scale"
      ],
      "execution_count": 2,
      "outputs": []
    },
    {
      "cell_type": "markdown",
      "metadata": {
        "id": "VTVFbp1xfyz7",
        "colab_type": "text"
      },
      "source": [
        "### 計算相似度並建立混淆矩陣"
      ]
    },
    {
      "cell_type": "code",
      "metadata": {
        "id": "zVyFKqybRJea",
        "colab_type": "code",
        "colab": {
          "base_uri": "https://localhost:8080/",
          "height": 193
        },
        "outputId": "bce45bd5-afc8-40d1-dee8-dc04431cf5cd"
      },
      "source": [
        "confusion_matrix = np.zeros((len(enroll),len(enroll)),dtype=int)\n",
        "for eval_idx in range(len(eval)):\n",
        "    scores = []\n",
        "    for enroll_idx in range(len(enroll)):\n",
        "        # scores.append(np.max(cosine(enroll[enroll_idx],eval[eval_idx]),axis=0))\n",
        "        # scores.append(np.min(cosine(enroll[enroll_idx],eval[eval_idx]),axis=0))\n",
        "        scores.append(np.mean(cosine(enroll[enroll_idx],eval[eval_idx]),axis=0))\n",
        "    predict_classes = np.argmax(scores,axis=0)\n",
        "    for predict_class_idx in predict_classes:\n",
        "       confusion_matrix[predict_class_idx][eval_idx] += 1 \n",
        "    # print(classes)\n",
        "\n",
        "confusion_matrix"
      ],
      "execution_count": 3,
      "outputs": [
        {
          "output_type": "execute_result",
          "data": {
            "text/plain": [
              "array([[ 55,   0,   0,   0,   3,   1,   0,   0,   2,   0],\n",
              "       [  0, 109,   2,   0,   0,   0,   0,   0,   0,   0],\n",
              "       [  0,  12, 130,   5,   2,   0,   0,   0,  14,   0],\n",
              "       [  7,   0,   7,  90,   2,   0,   0,   0,   0,   0],\n",
              "       [  2,   0,   0,   0,  30,   0,   0,   0,   0,   0],\n",
              "       [  0,   0,   0,   0,   0, 115,   0,   0,   0,   0],\n",
              "       [  0,   0,   0,   0,   0,   0,  71,   0,   0,   0],\n",
              "       [  0,   0,   0,   0,   0,   0,   0,  96,   0,   0],\n",
              "       [  0,   0,   0,   0,   2,   0,   0,   0,  27,   0],\n",
              "       [  3,   0,  22,   3,  10,   0,   0,   0,   6,  42]])"
            ]
          },
          "metadata": {
            "tags": []
          },
          "execution_count": 3
        }
      ]
    },
    {
      "cell_type": "code",
      "metadata": {
        "id": "snsqgOJerLIZ",
        "colab_type": "code",
        "colab": {}
      },
      "source": [
        "precision = np.sum(confusion_matrix*np.eye(len(enroll)),axis=0)/np.reshape(np.sum(confusion_matrix,axis=1),(-1))"
      ],
      "execution_count": 16,
      "outputs": []
    },
    {
      "cell_type": "code",
      "metadata": {
        "id": "CuFL8Ci4qeoH",
        "colab_type": "code",
        "colab": {}
      },
      "source": [
        "recall = np.sum(confusion_matrix*np.eye(len(enroll)),axis=0)/np.sum(confusion_matrix,axis=0)"
      ],
      "execution_count": 17,
      "outputs": []
    },
    {
      "cell_type": "markdown",
      "metadata": {
        "id": "0FT0q1UMmKny",
        "colab_type": "text"
      },
      "source": [
        "### 建立 csv table"
      ]
    },
    {
      "cell_type": "code",
      "metadata": {
        "id": "4PUNu5wOhPQq",
        "colab_type": "code",
        "colab": {
          "base_uri": "https://localhost:8080/",
          "height": 54
        },
        "outputId": "ff546c93-58df-491f-c477-d32e981c861c"
      },
      "source": [
        "table = [[\"\"]]\n",
        "for label_idx in range(len(enroll)):\n",
        "    table[0].append(\"actual:{}\".format(label_idx))\n",
        "\n",
        "for predict_idx in range(len(enroll)):\n",
        "    table.append([\"predict:{}\".format(predict_idx)])\n",
        "    for label_idx in range(len(enroll)):\n",
        "        table[predict_idx+1].append(confusion_matrix[predict_idx][label_idx])\n",
        "\n",
        "table[0].append(\"precision\")\n",
        "for idx in range(len(enroll)):\n",
        "    table[idx+1].append(precision[idx])\n",
        "\n",
        "table.append([\"recall\"])\n",
        "print(table)\n",
        "for idx in range(len(enroll)):\n",
        "    table[len(enroll)+1].append(recall[idx])\n",
        "table[len(enroll)+1].append('')\n"
      ],
      "execution_count": 29,
      "outputs": [
        {
          "output_type": "stream",
          "text": [
            "[['', 'actual:0', 'actual:1', 'actual:2', 'actual:3', 'actual:4', 'actual:5', 'actual:6', 'actual:7', 'actual:8', 'actual:9', 'precision'], ['predict:0', 55, 0, 0, 0, 3, 1, 0, 0, 2, 0, 0.9016393442622951], ['predict:1', 0, 109, 2, 0, 0, 0, 0, 0, 0, 0, 0.9819819819819819], ['predict:2', 0, 12, 130, 5, 2, 0, 0, 0, 14, 0, 0.7975460122699386], ['predict:3', 7, 0, 7, 90, 2, 0, 0, 0, 0, 0, 0.8490566037735849], ['predict:4', 2, 0, 0, 0, 30, 0, 0, 0, 0, 0, 0.9375], ['predict:5', 0, 0, 0, 0, 0, 115, 0, 0, 0, 0, 1.0], ['predict:6', 0, 0, 0, 0, 0, 0, 71, 0, 0, 0, 1.0], ['predict:7', 0, 0, 0, 0, 0, 0, 0, 96, 0, 0, 1.0], ['predict:8', 0, 0, 0, 0, 2, 0, 0, 0, 27, 0, 0.9310344827586207], ['predict:9', 3, 0, 22, 3, 10, 0, 0, 0, 6, 42, 0.4883720930232558], ['recall']]\n"
          ],
          "name": "stdout"
        }
      ]
    },
    {
      "cell_type": "markdown",
      "metadata": {
        "id": "JaR45HpgmcMm",
        "colab_type": "text"
      },
      "source": [
        "### 寫入 csv 檔"
      ]
    },
    {
      "cell_type": "code",
      "metadata": {
        "id": "1AwuxBf0mYTe",
        "colab_type": "code",
        "colab": {}
      },
      "source": [
        "import csv\n",
        "with open('confusion_matrix.csv', 'w', newline='') as csv_file:\n",
        "  writer = csv.writer(csv_file)\n",
        "  writer.writerows(table)"
      ],
      "execution_count": 27,
      "outputs": []
    }
  ]
}